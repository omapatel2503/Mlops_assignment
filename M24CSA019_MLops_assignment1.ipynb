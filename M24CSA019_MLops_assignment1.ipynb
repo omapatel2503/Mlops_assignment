{
  "nbformat": 4,
  "nbformat_minor": 0,
  "metadata": {
    "colab": {
      "provenance": []
    },
    "kernelspec": {
      "name": "python3",
      "display_name": "Python 3"
    },
    "language_info": {
      "name": "python"
    }
  },
  "cells": [
    {
      "cell_type": "markdown",
      "source": [
        "## MLOps Assignment 1"
      ],
      "metadata": {
        "id": "LlIGlcIiywyq"
      }
    },
    {
      "cell_type": "markdown",
      "source": [
        "Q1. Print multiplication table from 1 to 10"
      ],
      "metadata": {
        "id": "i3GplYoCqa89"
      }
    },
    {
      "cell_type": "code",
      "source": [
        "#write here and run the cell\n",
        "def print_table():\n",
        "  for i in range(1,11):\n",
        "    for j in range(1,11):\n",
        "      print(i,'*',j,'=',i*j,end=\"    \")\n",
        "    print('\\n')\n",
        "print_table()"
      ],
      "metadata": {
        "id": "Vfm5RBY0qbIs",
        "colab": {
          "base_uri": "https://localhost:8080/"
        },
        "outputId": "a5c44992-c2cd-46fb-dcbc-fc13be622d2e"
      },
      "execution_count": null,
      "outputs": [
        {
          "output_type": "stream",
          "name": "stdout",
          "text": [
            "1 * 1 = 1    1 * 2 = 2    1 * 3 = 3    1 * 4 = 4    1 * 5 = 5    1 * 6 = 6    1 * 7 = 7    1 * 8 = 8    1 * 9 = 9    1 * 10 = 10    \n",
            "\n",
            "2 * 1 = 2    2 * 2 = 4    2 * 3 = 6    2 * 4 = 8    2 * 5 = 10    2 * 6 = 12    2 * 7 = 14    2 * 8 = 16    2 * 9 = 18    2 * 10 = 20    \n",
            "\n",
            "3 * 1 = 3    3 * 2 = 6    3 * 3 = 9    3 * 4 = 12    3 * 5 = 15    3 * 6 = 18    3 * 7 = 21    3 * 8 = 24    3 * 9 = 27    3 * 10 = 30    \n",
            "\n",
            "4 * 1 = 4    4 * 2 = 8    4 * 3 = 12    4 * 4 = 16    4 * 5 = 20    4 * 6 = 24    4 * 7 = 28    4 * 8 = 32    4 * 9 = 36    4 * 10 = 40    \n",
            "\n",
            "5 * 1 = 5    5 * 2 = 10    5 * 3 = 15    5 * 4 = 20    5 * 5 = 25    5 * 6 = 30    5 * 7 = 35    5 * 8 = 40    5 * 9 = 45    5 * 10 = 50    \n",
            "\n",
            "6 * 1 = 6    6 * 2 = 12    6 * 3 = 18    6 * 4 = 24    6 * 5 = 30    6 * 6 = 36    6 * 7 = 42    6 * 8 = 48    6 * 9 = 54    6 * 10 = 60    \n",
            "\n",
            "7 * 1 = 7    7 * 2 = 14    7 * 3 = 21    7 * 4 = 28    7 * 5 = 35    7 * 6 = 42    7 * 7 = 49    7 * 8 = 56    7 * 9 = 63    7 * 10 = 70    \n",
            "\n",
            "8 * 1 = 8    8 * 2 = 16    8 * 3 = 24    8 * 4 = 32    8 * 5 = 40    8 * 6 = 48    8 * 7 = 56    8 * 8 = 64    8 * 9 = 72    8 * 10 = 80    \n",
            "\n",
            "9 * 1 = 9    9 * 2 = 18    9 * 3 = 27    9 * 4 = 36    9 * 5 = 45    9 * 6 = 54    9 * 7 = 63    9 * 8 = 72    9 * 9 = 81    9 * 10 = 90    \n",
            "\n",
            "10 * 1 = 10    10 * 2 = 20    10 * 3 = 30    10 * 4 = 40    10 * 5 = 50    10 * 6 = 60    10 * 7 = 70    10 * 8 = 80    10 * 9 = 90    10 * 10 = 100    \n",
            "\n"
          ]
        }
      ]
    },
    {
      "cell_type": "markdown",
      "source": [
        "Q2. Given two lists, l1 and l2, write a program to create a third list l3 by picking an odd-index element from the list l1 and even index elements from the list l2."
      ],
      "metadata": {
        "id": "kCxjfhGtiMFb"
      }
    },
    {
      "cell_type": "code",
      "source": [
        "#write here and run the cell\n",
        "def odd_even_list(l1,l2):\n",
        "  l3=[]\n",
        "  for i in range(len(l1)):\n",
        "    if i%2!=0:\n",
        "      l3.append(l1[i])\n",
        "\n",
        "  for i in range(len(l2)):\n",
        "    if i%2==0:\n",
        "      l3.append(l2[i])\n",
        "  return l3\n",
        "\n",
        "odd_even_list([3, 6, 9, 12, 15, 18, 21],[4, 8, 12, 16, 20, 24, 28])"
      ],
      "metadata": {
        "id": "r1lkQPN8iNSc",
        "colab": {
          "base_uri": "https://localhost:8080/"
        },
        "outputId": "d4f3d847-0196-4646-98fb-96b759dcbce8"
      },
      "execution_count": null,
      "outputs": [
        {
          "output_type": "execute_result",
          "data": {
            "text/plain": [
              "[6, 12, 18, 4, 12, 20, 28]"
            ]
          },
          "metadata": {},
          "execution_count": 4
        }
      ]
    },
    {
      "cell_type": "markdown",
      "source": [
        "Q3. Print a this pattern(*)\n",
        "\n",
        "    * * * * * * * *\n",
        "      * * * * * * *\n",
        "        * * * * * *\n",
        "          * * * * *\n",
        "            * * * *\n",
        "              * * *\n",
        "                * *\n",
        "                  *"
      ],
      "metadata": {
        "id": "GBb0FgtIq4YA"
      }
    },
    {
      "cell_type": "code",
      "source": [
        "#write here and run the cell\n",
        "def pattern(n):\n",
        "  for i in range(n,0,-1):\n",
        "    print(' '*(n-i),'*'*i)\n",
        "\n",
        "pattern(7)"
      ],
      "metadata": {
        "id": "rfbGzuA3rcGs",
        "colab": {
          "base_uri": "https://localhost:8080/"
        },
        "outputId": "1b70ab6e-4717-4c0f-8459-db8ec4a09e90"
      },
      "execution_count": null,
      "outputs": [
        {
          "output_type": "stream",
          "name": "stdout",
          "text": [
            " *******\n",
            "  ******\n",
            "   *****\n",
            "    ****\n",
            "     ***\n",
            "      **\n",
            "       *\n"
          ]
        }
      ]
    },
    {
      "cell_type": "markdown",
      "source": [
        "Q4. Create a function named `exponent(base, exp)` that returns an integer representing the result of raising `base` to the power of `exp`.\n",
        "`exp` is >0.\n",
        "\n",
        "base = 5\n",
        "exponent = 4\n",
        "\n",
        "5 raises to the power of 4 is: 625\n",
        "i.e. (5 *5 * 5 *5 = 625)"
      ],
      "metadata": {
        "id": "WIblh-z6s9me"
      }
    },
    {
      "cell_type": "code",
      "source": [
        "#write here and run the cell\n",
        "def exponent(base,exp):\n",
        "  return base**exp\n",
        "\n",
        "exponent(5,4)"
      ],
      "metadata": {
        "id": "6-KKDQNWs8eQ",
        "colab": {
          "base_uri": "https://localhost:8080/"
        },
        "outputId": "468006aa-064b-4648-d17e-47a6f36ca778"
      },
      "execution_count": null,
      "outputs": [
        {
          "output_type": "execute_result",
          "data": {
            "text/plain": [
              "625"
            ]
          },
          "metadata": {},
          "execution_count": 14
        }
      ]
    },
    {
      "cell_type": "markdown",
      "source": [
        "Q5. Create a file named test.txt and insert the following content into it.\n",
        "\n",
        "    line1\n",
        "    line2\n",
        "    line3\n",
        "    line4\n",
        "    line5\n",
        "    line6\n",
        "    line7\n",
        "\n",
        "Write a program which write all content of a given file (test.txt) into a new file by skipping line number 5 (line5)"
      ],
      "metadata": {
        "id": "_QUrD8h6t6PN"
      }
    },
    {
      "cell_type": "code",
      "source": [
        "#write here and run the cell\n",
        "def cewrite():\n",
        "  with open('test.txt','w') as f:\n",
        "    f.write('line1\\nline2\\nline3\\nline4\\nline5\\nline6\\nline7')\n",
        "\n",
        "cewrite()\n",
        "\n",
        "def write_new_file():\n",
        "  with open('test.txt','r') as f:\n",
        "    lines=f.readlines()\n",
        "    with open('new_file.txt','w') as f1:\n",
        "      for i in range(len(lines)):\n",
        "        if i!=4:\n",
        "          f1.write(lines[i])\n",
        "\n",
        "write_new_file()"
      ],
      "metadata": {
        "id": "I2KF1QHKrq-s"
      },
      "execution_count": 3,
      "outputs": []
    },
    {
      "cell_type": "markdown",
      "source": [
        "Q6. Write a program which receives three names from the user in a single input() function call.\n",
        "\n",
        "    Input: IIT JODHPUR RAJASTHAN\n",
        "\n",
        "    Output:\n",
        "    IIT\n",
        "    JODHPUR\n",
        "    RAJASTHAN"
      ],
      "metadata": {
        "id": "6cdAt0ONvMVI"
      }
    },
    {
      "cell_type": "code",
      "source": [
        "#write here and run the cell\n",
        "def get_names():\n",
        "  names=input('Enter three names: ')\n",
        "  names=names.split()\n",
        "  for name in names:\n",
        "    print(name)\n",
        "\n",
        "get_names()"
      ],
      "metadata": {
        "id": "Mo0wyeB6vJJm",
        "colab": {
          "base_uri": "https://localhost:8080/"
        },
        "outputId": "279d75e7-b22a-434b-c1a9-b854b2c4176b"
      },
      "execution_count": null,
      "outputs": [
        {
          "output_type": "stream",
          "name": "stdout",
          "text": [
            "Enter three names: iit jodhpur rajasthan\n",
            "iit\n",
            "jodhpur\n",
            "rajasthan\n"
          ]
        }
      ]
    },
    {
      "cell_type": "markdown",
      "source": [
        "Q7. Write a program to define a function called show_employee() with the following requirements:\n",
        "\n",
        "*   It should take the employee's name and salary as input and display both.\n",
        "*   If the salary is not provided in the function call, assign a default value of 9000 to it.\n",
        "\n",
        "After passing:\n",
        "\n",
        "showEmployee(\"Bill Gates\", 12000)\n",
        "\n",
        "showEmployee(\"Elon Musk\")\n",
        "\n",
        "It should print:\n",
        "\n",
        "Name: Bill Gates salary: 12000\n",
        "\n",
        "Name: Elon Musk salary: 9000"
      ],
      "metadata": {
        "id": "jwSKpPcYv_De"
      }
    },
    {
      "cell_type": "code",
      "source": [
        "#write here and run the cell\n",
        "def show_employee(name,salary=9000):\n",
        "  print('Name:',name,'salary:',salary)\n",
        "\n",
        "show_employee('Bill Gates',12000)\n",
        "show_employee('Elon Musk')"
      ],
      "metadata": {
        "id": "yyzhkF1Lv94j",
        "colab": {
          "base_uri": "https://localhost:8080/"
        },
        "outputId": "a9183a02-8e7f-4192-8fcb-eeed22dc9b03"
      },
      "execution_count": null,
      "outputs": [
        {
          "output_type": "stream",
          "name": "stdout",
          "text": [
            "Name: Bill Gates salary: 12000\n",
            "Name: Elon Musk salary: 9000\n"
          ]
        }
      ]
    },
    {
      "cell_type": "markdown",
      "source": [
        "Q8. Write a program to identify words that contain both letters and digits from a given input string.\n",
        "\n",
        "    Given str1 = \"Harry25 is Gryffindor Wizard50 and cursed\"\n",
        "\n",
        "    Output:\n",
        "    Harry25\n",
        "    Wizard50"
      ],
      "metadata": {
        "id": "BAtCQH3pxXWV"
      }
    },
    {
      "cell_type": "code",
      "source": [
        "#write here and run the cell\n",
        "def identify_words(str1):\n",
        "  words=str1.split()\n",
        "  for word in words:\n",
        "    if any(char.isdigit() for char in word) and any(char.isalpha() for char in word):\n",
        "      print(word)\n",
        "identify_words(\"Harry25 is Gryffindor Wizard50 and cursed\")"
      ],
      "metadata": {
        "id": "bqbyxYdqvJHY",
        "colab": {
          "base_uri": "https://localhost:8080/"
        },
        "outputId": "0698c599-d110-43cb-d9f3-d882b43d9593"
      },
      "execution_count": null,
      "outputs": [
        {
          "output_type": "stream",
          "name": "stdout",
          "text": [
            "Harry25\n",
            "Wizard50\n"
          ]
        }
      ]
    },
    {
      "cell_type": "markdown",
      "source": [
        "Q9. Write a program to substitute each special character in the given string with the symbol #.\n",
        "\n",
        "    Given: str1 = '/*Modi is @Politician & Melony!!'\n",
        "\n",
        "    Output: ##Modi is #Politician # Melony##"
      ],
      "metadata": {
        "id": "Ev6TIw7oyGzJ"
      }
    },
    {
      "cell_type": "code",
      "source": [
        "#write here and run the cell\n",
        "def substitute_special_characters(str1):\n",
        "  for char in str1:\n",
        "    if not char.isalnum() and char!=' ':\n",
        "\n",
        "      str1=str1.replace(char,'#')\n",
        "  return str1\n",
        "\n",
        "substitute_special_characters('/*Modi is @Politician & Melony!!')"
      ],
      "metadata": {
        "id": "Hbg92hJtvJE7",
        "colab": {
          "base_uri": "https://localhost:8080/",
          "height": 36
        },
        "outputId": "e79acc12-2a5c-4dcb-d1d9-40adbf29cb4f"
      },
      "execution_count": null,
      "outputs": [
        {
          "output_type": "execute_result",
          "data": {
            "text/plain": [
              "'##Modi is #Politician # Melony##'"
            ],
            "application/vnd.google.colaboratory.intrinsic+json": {
              "type": "string"
            }
          },
          "metadata": {},
          "execution_count": 21
        }
      ]
    },
    {
      "cell_type": "markdown",
      "source": [
        "Q10. Construct a Python set that displays elements from both lists as pairs.\n",
        "\n",
        "    Given:\n",
        "\n",
        "    first_list = [2, 3, 4, 5, 6, 7, 8]\n",
        "    second_list = [4, 9, 16, 25, 36, 49, 64]\n",
        "    Output: Result is  {(6, 36), (8, 64), (4, 16), (5, 25), (3, 9), (7, 49), (2, 4)}"
      ],
      "metadata": {
        "id": "L9zg8k_XyoMz"
      }
    },
    {
      "cell_type": "code",
      "source": [
        "#write here and run the cell\n",
        "def construct_set(first_list,second_list):\n",
        "  set1=set()\n",
        "  for i in range(len(first_list)):\n",
        "    set1.add((first_list[i],second_list[i]))\n",
        "  return set1\n",
        "\n",
        "construct_set([2, 3, 4, 5, 6, 7, 8],[4, 9, 16, 25, 36, 49, 64])"
      ],
      "metadata": {
        "id": "aSBw6V0OvJCS",
        "colab": {
          "base_uri": "https://localhost:8080/"
        },
        "outputId": "196bf772-7863-4a61-861b-ad9b70fff0c8"
      },
      "execution_count": null,
      "outputs": [
        {
          "output_type": "execute_result",
          "data": {
            "text/plain": [
              "{(2, 4), (3, 9), (4, 16), (5, 25), (6, 36), (7, 49), (8, 64)}"
            ]
          },
          "metadata": {},
          "execution_count": 23
        }
      ]
    },
    {
      "cell_type": "markdown",
      "source": [
        "Q11. Define two set A and B consisting of 5 elements. Now print the element after performing\n",
        "\n",
        "\n",
        "      1.   A-B\n",
        "      2.   B-A\n",
        "      3.   A∩B\n",
        "      4.   A∪B\n",
        "\n",
        "\n"
      ],
      "metadata": {
        "id": "JHa0SMOozZo9"
      }
    },
    {
      "cell_type": "code",
      "source": [
        "#write here and run the cell\n",
        "def set_operations(A,B):\n",
        "  print(A-B)\n",
        "  print(B-A)\n",
        "  print(A.intersection(B))\n",
        "  print(A.union(B))\n",
        "set_operations({1,2,3,4,5},{4,5,6,7,8})"
      ],
      "metadata": {
        "id": "r9vL1bpHzZGg",
        "colab": {
          "base_uri": "https://localhost:8080/"
        },
        "outputId": "ea52c048-a6a8-4d2d-c0c5-ca3e3c6272bd"
      },
      "execution_count": null,
      "outputs": [
        {
          "output_type": "stream",
          "name": "stdout",
          "text": [
            "{1, 2, 3}\n",
            "{8, 6, 7}\n",
            "{4, 5}\n",
            "{1, 2, 3, 4, 5, 6, 7, 8}\n"
          ]
        }
      ]
    },
    {
      "cell_type": "markdown",
      "source": [
        "## Object Oriented Programming Exercise 1:\n",
        "\n",
        "[Classes and Objects in Python](https://pynative.com/python-classes-and-objects/)\n",
        "\n",
        "[Instance variables in Python](https://pynative.com/python-instance-variables/)"
      ],
      "metadata": {
        "id": "UFjTtL_i00dz"
      }
    },
    {
      "cell_type": "markdown",
      "source": [
        "Q12. Create a Vehicle class with max_speed and mileage instance attributes."
      ],
      "metadata": {
        "id": "-PQELvq41z5B"
      }
    },
    {
      "cell_type": "code",
      "source": [
        "#write here and run the cell\n",
        "class Vehicle:\n",
        "  def __init__(self,max_speed,mileage):\n",
        "    self.max_speed=max_speed\n",
        "    self.mileage=mileage\n",
        "\n",
        "car=Vehicle(240,18)\n",
        "print(car.max_speed,car.mileage)"
      ],
      "metadata": {
        "id": "Wa16l5-C0z3Z",
        "colab": {
          "base_uri": "https://localhost:8080/"
        },
        "outputId": "207abe33-d453-4855-d180-f62d18699d79"
      },
      "execution_count": null,
      "outputs": [
        {
          "output_type": "stream",
          "name": "stdout",
          "text": [
            "240 18\n"
          ]
        }
      ]
    },
    {
      "cell_type": "markdown",
      "source": [
        "Q13. Create a child class Bus that will inherit all of the variables and methods of the Vehicle class.\n",
        "\n",
        "Create a Bus object that will inherit all of the variables and methods of the parent Vehicle class and display it."
      ],
      "metadata": {
        "id": "-Japqg35177L"
      }
    },
    {
      "cell_type": "code",
      "source": [
        "#write here and run the cell\n",
        "class Bus(Vehicle):\n",
        "  pass\n",
        "\n",
        "bus=Bus(180,12)\n",
        "print(bus.max_speed,bus.mileage)"
      ],
      "metadata": {
        "id": "nUvpX3qR2Upg",
        "colab": {
          "base_uri": "https://localhost:8080/"
        },
        "outputId": "18f1b969-575d-4da6-c2c7-b61462e21db2"
      },
      "execution_count": null,
      "outputs": [
        {
          "output_type": "stream",
          "name": "stdout",
          "text": [
            "180 12\n"
          ]
        }
      ]
    },
    {
      "cell_type": "markdown",
      "source": [
        "### Class Inheritance\n",
        "\n",
        "Q14. Create a Bus class that inherits from the Vehicle class. Give the capacity argument of Bus.seating_capacity() a default value of 50.\n",
        "\n",
        "Use the following code for your parent Vehicle class.\n",
        "\n",
        "    class Vehicle:\n",
        "      def __init__(self, name, max_speed, mileage):\n",
        "          self.name = name\n",
        "          self.max_speed = max_speed\n",
        "          self.mileage = mileage\n",
        "\n",
        "      def seating_capacity(self, capacity):\n",
        "          return f\"The seating capacity of a {self.name} is {capacity} passengers\"\n",
        "\n",
        "Expected Output:\n",
        "\n",
        "    The seating capacity of a bus is 50 passengers"
      ],
      "metadata": {
        "id": "fPFfg2Hh2VBe"
      }
    },
    {
      "cell_type": "code",
      "source": [
        "#write here and run the cell\n",
        "class Vehicle:\n",
        "  def __init__(self, name, max_speed, mileage):\n",
        "    self.name = name\n",
        "    self.max_speed = max_speed\n",
        "    self.mileage = mileage\n",
        "\n",
        "  def seating_capacity(self, capacity):\n",
        "    return f\"The seating capacity of a {self.name} is {capacity} passengers\"\n",
        "\n",
        "class Bus(Vehicle):\n",
        "  def seating_capacity(self, capacity=50):\n",
        "    return super().seating_capacity(capacity)\n",
        "\n",
        "bus = Bus(\"bus\", 180, 12)\n",
        "print(bus.seating_capacity())"
      ],
      "metadata": {
        "id": "TKalMy1B2_Ix",
        "colab": {
          "base_uri": "https://localhost:8080/"
        },
        "outputId": "f8567b93-882e-4929-dbab-ecaf34556462"
      },
      "execution_count": null,
      "outputs": [
        {
          "output_type": "stream",
          "name": "stdout",
          "text": [
            "The seating capacity of a bus is 50 passengers\n"
          ]
        }
      ]
    },
    {
      "cell_type": "markdown",
      "source": [
        "Q15. Create a Bus subclass that inherits from the Vehicle class. By default, the fare for any vehicle is calculated as the seating capacity multiplied by 100. For instances of the Bus class, an additional 10% maintenance fee should be applied to the total fare. Therefore, the final fare for a bus instance will be the sum of the total fare plus an additional 10% of that total fare.\n",
        "\n",
        "Note: The bus has a seating capacity of 50, so the final fare amount should be 5500. You need to override the fare() method from the Vehicle class in the Bus class.\n",
        "\n",
        "Use the provided code for the parent Vehicle class. You should access the parent class within a method of the child class.\n",
        "\n",
        "    class Vehicle:\n",
        "      def __init__(self, name, mileage, capacity):\n",
        "        self.name = name\n",
        "        self.mileage = mileage\n",
        "        self.capacity = capacity\n",
        "\n",
        "      def fare(self):\n",
        "        return self.capacity * 100\n",
        "\n",
        "    class Bus(Vehicle):\n",
        "        pass\n",
        "        School_bus = Bus(\"School Volvo\", 12, 50)\n",
        "        print(\"Total Bus fare is:\", School_bus.fare())\n",
        "\n",
        "    Expected Output:\n",
        "\n",
        "    Total Bus fare is: 5500.0"
      ],
      "metadata": {
        "id": "kenJ766m2_jc"
      }
    },
    {
      "cell_type": "code",
      "source": [
        "#write here and run the cell\n",
        "class Vehicle:\n",
        "  def __init__(self, name, mileage, capacity):\n",
        "    self.name = name\n",
        "    self.mileage = mileage\n",
        "    self.capacity = capacity\n",
        "\n",
        "  def fare(self):\n",
        "    return self.capacity * 100\n",
        "\n",
        "class Bus(Vehicle):\n",
        "  def fare(self):\n",
        "    return super().fare()+0.1*super().fare()\n",
        "\n",
        "School_bus = Bus(\"School Volvo\", 12, 50)\n",
        "print(\"Total Bus fare is:\", School_bus.fare())"
      ],
      "metadata": {
        "id": "jY3Z5SsY_iaQ",
        "colab": {
          "base_uri": "https://localhost:8080/"
        },
        "outputId": "27c71b00-b112-4575-da2b-6207f5442bf4"
      },
      "execution_count": null,
      "outputs": [
        {
          "output_type": "stream",
          "name": "stdout",
          "text": [
            "Total Bus fare is: 5500.0\n"
          ]
        }
      ]
    },
    {
      "cell_type": "markdown",
      "source": [
        "### Python JSON Exercise\n",
        "Refer: [Python JSON tutorials](https://pynative.com/python/json/)"
      ],
      "metadata": {
        "id": "3wMvLEkk_nWE"
      }
    },
    {
      "cell_type": "markdown",
      "source": [
        "Q16. Convert the following dictionary into JSON format\n",
        "\n",
        "    data = {\"key1\" : \"value1\", \"key2\" : \"value2\"}\n",
        "    data = {\"key1\" : \"value1\", \"key2\" : \"value2\"}"
      ],
      "metadata": {
        "id": "zVIiuI0PAcuT"
      }
    },
    {
      "cell_type": "code",
      "source": [
        "#write here and run the cell\n",
        "import json\n",
        "data = {\"key1\" : \"value1\", \"key2\" : \"value2\"}\n",
        "json_data = json.dumps(data)\n",
        "print(json_data)"
      ],
      "metadata": {
        "id": "Z5M47OYS_mhA",
        "colab": {
          "base_uri": "https://localhost:8080/"
        },
        "outputId": "f85996ca-e478-46a4-b3ac-64a586de3c83"
      },
      "execution_count": null,
      "outputs": [
        {
          "output_type": "stream",
          "name": "stdout",
          "text": [
            "{\"key1\": \"value1\", \"key2\": \"value2\"}\n"
          ]
        }
      ]
    },
    {
      "cell_type": "markdown",
      "source": [
        "Q17. Sort JSON keys in and write them into a file\n",
        "\n",
        "    sampleJson = {\"id\" : 1, \"name\" : \"value2\", \"age\" : 29}\n",
        "\n",
        "    {\n",
        "          \"age\": 29,\n",
        "          \"id\": 1,\n",
        "          \"name\": \"value2\"\n",
        "    }"
      ],
      "metadata": {
        "id": "8eE35QccA_X-"
      }
    },
    {
      "cell_type": "code",
      "source": [
        "#write here and run the cell\n",
        "import json\n",
        "sampleJson = {\"id\" : 1, \"name\" : \"value2\", \"age\" : 29}\n",
        "json_data = json.dumps(sampleJson,sort_keys=True)\n",
        "print(json_data)"
      ],
      "metadata": {
        "id": "jLG5tk_X_j5O",
        "colab": {
          "base_uri": "https://localhost:8080/"
        },
        "outputId": "0b957db2-5043-4465-dd8b-dbb8e0c8ac22"
      },
      "execution_count": null,
      "outputs": [
        {
          "output_type": "stream",
          "name": "stdout",
          "text": [
            "{\"age\": 29, \"id\": 1, \"name\": \"value2\"}\n"
          ]
        }
      ]
    },
    {
      "cell_type": "code",
      "source": [],
      "metadata": {
        "id": "LilrnDDf7iOc"
      },
      "execution_count": null,
      "outputs": []
    }
  ]
}